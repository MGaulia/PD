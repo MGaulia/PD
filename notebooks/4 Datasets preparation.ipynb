{
 "cells": [
  {
   "cell_type": "code",
   "execution_count": 1,
   "id": "471f5aea",
   "metadata": {},
   "outputs": [],
   "source": [
    "import pandas as pd\n",
    "from sklearn.model_selection import train_test_split\n",
    "\n",
    "def addlag(data, col, maxlag):\n",
    "    df = data.copy()\n",
    "    for i in range(1, maxlag +1):\n",
    "        df[col + \"_L\" + str(i)] = df[col].shift(i)\n",
    "    \n",
    "    return df\n",
    "\n",
    "def read_and_clean_data(filename):\n",
    "    df = pd.read_csv(filename, parse_dates = ['time'])\n",
    "    maxlag = 4\n",
    "    df[\"pospercent\"] = df.pos / df.total\n",
    "    df.total = df.total.astype(int)\n",
    "    \n",
    "    df[\"BTC_change\"] = df.BTC_price.pct_change()\n",
    "    df = addlag(df, \"BTC_change\", maxlag)\n",
    "    df[\"SPY_change\"] = df.SPY_price.pct_change()\n",
    "    df = addlag(df, \"SPY_change\", maxlag)\n",
    "    df[\"VXX_change\"] = df.VXX_price.pct_change()\n",
    "    df = addlag(df, \"VXX_change\", maxlag)\n",
    "    df[\"XAU_change\"] = df.XAU_price.pct_change()\n",
    "    df = addlag(df, \"XAU_change\", maxlag)\n",
    "    df[\"change\"] = df.XRP_price.pct_change().shift(-1)\n",
    "    df = addlag(df, \"change\", maxlag)\n",
    "\n",
    "    df = df.drop(['time','XRP_price','BTC_price','SPY_price','VXX_price','XAU_price','VXX_change','labels','pos','neg','dom'], axis = 1)\n",
    "    df = df.dropna()\n",
    "    df = df.reset_index(drop = True)\n",
    "    \n",
    "    new_cols = [col for col in df.columns if col != 'change'] + ['change']\n",
    "    df = df[new_cols]\n",
    "\n",
    "    return df\n",
    "\n",
    "def split_and_save(filename):\n",
    "    df = read_and_clean_data(filename)\n",
    "    train, test = train_test_split(df, train_size = 0.7, shuffle = False)\n",
    "    train, valid = train_test_split(train, train_size = 0.8, shuffle = False)\n",
    "    train = train.reset_index(drop = True)\n",
    "    valid = valid.reset_index(drop = True)\n",
    "    test = test.reset_index(drop = True)\n",
    "    print(\"Train: \", train.shape, \" Valid: \", valid.shape, \"Test: \", test.shape)\n",
    "    if \"day\" in filename:\n",
    "        add = \"day\"\n",
    "    if \"hour\" in filename:\n",
    "        add = \"hour\"\n",
    "    if \"minute\" in filename:\n",
    "        add = \"minute\"\n",
    "        \n",
    "    train.to_csv(\"data/\" + add + \"_train.csv\", index = False)\n",
    "    valid.to_csv(\"data/\" + add + \"_valid.csv\", index = False)\n",
    "    test.to_csv(\"data/\" + add + \"_test.csv\", index = False)"
   ]
  },
  {
   "cell_type": "markdown",
   "id": "10dc0157",
   "metadata": {},
   "source": [
    "## Day"
   ]
  },
  {
   "cell_type": "code",
   "execution_count": 2,
   "id": "78e62a12",
   "metadata": {},
   "outputs": [
    {
     "name": "stdout",
     "output_type": "stream",
     "text": [
      "Train:  (27, 26)  Valid:  (7, 26) Test:  (15, 26)\n"
     ]
    }
   ],
   "source": [
    "split_and_save(\"data/full_day.csv\")"
   ]
  },
  {
   "cell_type": "markdown",
   "id": "f5ca83cb",
   "metadata": {},
   "source": [
    "## Hour"
   ]
  },
  {
   "cell_type": "code",
   "execution_count": 3,
   "id": "2702126b",
   "metadata": {},
   "outputs": [
    {
     "name": "stdout",
     "output_type": "stream",
     "text": [
      "Train:  (688, 26)  Valid:  (173, 26) Test:  (370, 26)\n"
     ]
    }
   ],
   "source": [
    "split_and_save(\"data/full_hour.csv\")"
   ]
  },
  {
   "cell_type": "markdown",
   "id": "3bbc8580",
   "metadata": {},
   "source": [
    "## Minute"
   ]
  },
  {
   "cell_type": "code",
   "execution_count": 4,
   "id": "de578cdd",
   "metadata": {},
   "outputs": [
    {
     "name": "stdout",
     "output_type": "stream",
     "text": [
      "Train:  (5137, 26)  Valid:  (1285, 26) Test:  (2753, 26)\n"
     ]
    }
   ],
   "source": [
    "split_and_save(\"data/full_minute.csv\")"
   ]
  }
 ],
 "metadata": {
  "kernelspec": {
   "display_name": "Python 3 (ipykernel)",
   "language": "python",
   "name": "python3"
  },
  "language_info": {
   "codemirror_mode": {
    "name": "ipython",
    "version": 3
   },
   "file_extension": ".py",
   "mimetype": "text/x-python",
   "name": "python",
   "nbconvert_exporter": "python",
   "pygments_lexer": "ipython3",
   "version": "3.9.12"
  }
 },
 "nbformat": 4,
 "nbformat_minor": 5
}
